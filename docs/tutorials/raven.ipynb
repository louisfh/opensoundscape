{
 "cells": [
  {
   "cell_type": "markdown",
   "metadata": {},
   "source": [
    "# Raven annotations\n",
    "[Raven Sound Analysis Software](https://ravensoundsoftware.com/) enables users to inspect spectrograms, draw time and frequency boxes around sounds of interest, and label these boxes with species identities. OpenSoundscape contains functionality to prepare and use these annotations for machine learning."
   ]
  },
  {
   "cell_type": "markdown",
   "metadata": {},
   "source": [
    "## Download annotated data\n",
    "We published an example Raven-annotated dataset here: https://doi.org/10.1002/ecy.3329\n",
    "\n",
    "Note: these files are in mp3 format. If you receive a NoBackEndError please make sure ffmpeg is installed on your machine."
   ]
  },
  {
   "cell_type": "code",
   "execution_count": 1,
   "metadata": {},
   "outputs": [],
   "source": [
    "from opensoundscape.commands import run_command\n",
    "from pathlib import Path"
   ]
  },
  {
   "cell_type": "markdown",
   "metadata": {},
   "source": [
    "Download the zipped data here:"
   ]
  },
  {
   "cell_type": "code",
   "execution_count": 2,
   "metadata": {},
   "outputs": [],
   "source": [
    "link = \"https://esajournals.onlinelibrary.wiley.com/action/downloadSupplement?doi=10.1002%2Fecy.3329&file=ecy3329-sup-0001-DataS1.zip\"\n",
    "name = 'powdermill_data.zip'\n",
    "out = run_command(f\"wget -O powdermill_data.zip {link}\")"
   ]
  },
  {
   "cell_type": "markdown",
   "metadata": {},
   "source": [
    "Unzip the files to a new directory, `powdermill_data/`"
   ]
  },
  {
   "cell_type": "code",
   "execution_count": 3,
   "metadata": {},
   "outputs": [],
   "source": [
    "out = run_command(\"unzip powdermill_data.zip -d powdermill_data\")"
   ]
  },
  {
   "cell_type": "markdown",
   "metadata": {},
   "source": [
    "Keep track of the files we have now so we can delete them later."
   ]
  },
  {
   "cell_type": "code",
   "execution_count": 4,
   "metadata": {},
   "outputs": [],
   "source": [
    "files_to_delete = [Path(\"powdermill_data\"), Path(\"powdermill_data.zip\")]"
   ]
  },
  {
   "cell_type": "markdown",
   "metadata": {},
   "source": [
    "## Preprocess Raven data\n",
    "\n",
    "The `opensoundscape.raven` module contains preprocessing functions for Raven data, including:\n",
    "\n",
    "* `annotation_check` - for all the selections files, make sure they all contain labels\n",
    "* `lowercase_annotations` - lowercase all of the annotations\n",
    "* `generate_class_corrections` - create a CSV to see whether there are any weird names\n",
    "    * Modify the CSV as needed. If you need to look up files you can use `query_annotations`\n",
    "    * Can be used in `SplitterDataset`\n",
    "* `apply_class_corrections` - replace incorrect labels with correct labels\n",
    "* `query_annotations` - look for files that contain a particular species or a typo"
   ]
  },
  {
   "cell_type": "code",
   "execution_count": 5,
   "metadata": {},
   "outputs": [],
   "source": [
    "import pandas as pd\n",
    "import opensoundscape.raven as raven\n",
    "import opensoundscape.audio as audio"
   ]
  },
  {
   "cell_type": "code",
   "execution_count": 6,
   "metadata": {},
   "outputs": [],
   "source": [
    "raven_files_raw = Path(\"./powdermill_data/Annotation_Files/\")"
   ]
  },
  {
   "cell_type": "markdown",
   "metadata": {},
   "source": [
    "### Check Raven files have labels\n",
    "\n",
    "Check that all selections files contain labels under one column name. In this dataset the labels column is named `\"species\"`."
   ]
  },
  {
   "cell_type": "code",
   "execution_count": 7,
   "metadata": {},
   "outputs": [
    {
     "name": "stdout",
     "output_type": "stream",
     "text": [
      "All rows in powdermill_data/Annotation_Files contain labels in column `species`\n"
     ]
    }
   ],
   "source": [
    "raven.annotation_check(directory=raven_files_raw, col='species')"
   ]
  },
  {
   "cell_type": "markdown",
   "metadata": {},
   "source": [
    "### Create lowercase files\n",
    "\n",
    "Convert all the text in the files to lowercase to standardize them. Save these to a new directory. They will be saved with the same filename but with \".lower\" appended."
   ]
  },
  {
   "cell_type": "code",
   "execution_count": 8,
   "metadata": {},
   "outputs": [],
   "source": [
    "raven_directory = Path('./powdermill_data/Annotation_Files_Standardized')\n",
    "if not raven_directory.exists(): raven_directory.mkdir()\n",
    "raven.lowercase_annotations(directory=raven_files_raw, out_dir=raven_directory)"
   ]
  },
  {
   "cell_type": "markdown",
   "metadata": {},
   "source": [
    "Check that the outputs are saved as expected."
   ]
  },
  {
   "cell_type": "code",
   "execution_count": 9,
   "metadata": {},
   "outputs": [
    {
     "data": {
      "text/plain": [
       "[PosixPath('powdermill_data/Annotation_Files_Standardized/Recording_1_Segment_22.Table.1.selections.txt.lower'),\n",
       " PosixPath('powdermill_data/Annotation_Files_Standardized/Recording_4_Segment_15.Table.1.selections.txt.lower'),\n",
       " PosixPath('powdermill_data/Annotation_Files_Standardized/Recording_4_Segment_24.Table.1.selections.txt.lower'),\n",
       " PosixPath('powdermill_data/Annotation_Files_Standardized/Recording_1_Segment_13.Table.1.selections.txt.lower'),\n",
       " PosixPath('powdermill_data/Annotation_Files_Standardized/Recording_1_Segment_06.Table.1.selections.txt.lower')]"
      ]
     },
     "execution_count": 9,
     "metadata": {},
     "output_type": "execute_result"
    }
   ],
   "source": [
    "list(raven_directory.glob(\"*.lower\"))[:5]"
   ]
  },
  {
   "cell_type": "markdown",
   "metadata": {},
   "source": [
    "### Generate class corrections\n",
    "\n",
    "This function generates a table that can be modified by hand to correct labels with typos in them. It identifies the unique labels in the provided column (here `\"species\"`) in all of the lowercase files in the directory `raven_directory`.\n",
    "\n",
    "For instance, the generated table could be something like the following:\n",
    "```\n",
    "raw,corrected\n",
    "sparrow,sparrow\n",
    "sparow,sparow\n",
    "goose,goose\n",
    "```"
   ]
  },
  {
   "cell_type": "code",
   "execution_count": 10,
   "metadata": {},
   "outputs": [
    {
     "name": "stdout",
     "output_type": "stream",
     "text": [
      "raw,corrected\n",
      "amcr,amcr\n",
      "amgo,amgo\n",
      "amre,amre\n",
      "amro,amro\n",
      "baor,baor\n",
      "baww,baww\n",
      "bbwa,bbwa\n",
      "bcch,bcch\n",
      "bggn,bggn\n",
      "bhco,bhco\n",
      "bhvi,bhvi\n",
      "blja,blja\n",
      "brcr,brcr\n",
      "btnw,btnw\n",
      "bwwa,bwwa\n",
      "cang,cang\n",
      "carw,carw\n",
      "cedw,cedw\n",
      "cora,cora\n",
      "coye,coye\n",
      "cswa,cswa\n",
      "dowo,dowo\n",
      "eato,eato\n",
      "eawp,eawp\n",
      "hawo,hawo\n",
      "heth,heth\n",
      "howa,howa\n",
      "kewa,kewa\n",
      "lowa,lowa\n",
      "nawa,nawa\n",
      "noca,noca\n",
      "nofl,nofl\n",
      "oven,oven\n",
      "piwo,piwo\n",
      "rbgr,rbgr\n",
      "rbwo,rbwo\n",
      "rcki,rcki\n",
      "revi,revi\n",
      "rsha,rsha\n",
      "rwbl,rwbl\n",
      "scta,scta\n",
      "swth,swth\n",
      "tuti,tuti\n",
      "veer,veer\n",
      "wbnu,wbnu\n",
      "witu,witu\n",
      "woth,woth\n",
      "ybcu,ybcu\n",
      "\n"
     ]
    }
   ],
   "source": [
    "print(raven.generate_class_corrections(directory=raven_directory, col='species'))"
   ]
  },
  {
   "cell_type": "markdown",
   "metadata": {},
   "source": [
    "The released dataset has no need for class corrections, but if it did, we could save the return text to a CSV and use the CSV to apply corrections to future dataframes."
   ]
  },
  {
   "cell_type": "markdown",
   "metadata": {},
   "source": [
    "### Query annotations\n",
    "This function can be used to print all annotations of a particular class, e.g. \"amro\" (American Robin)"
   ]
  },
  {
   "cell_type": "code",
   "execution_count": 11,
   "metadata": {},
   "outputs": [
    {
     "name": "stdout",
     "output_type": "stream",
     "text": [
      "=================================================================================================\n",
      "powdermill_data/Annotation_Files_Standardized/Recording_4_Segment_16.Table.1.selections.txt.lower\n",
      "=================================================================================================\n",
      "\n",
      "     selection           view  channel  begin time (s)  end time (s)  \\\n",
      "85          86  spectrogram 1        1       77.634876     82.129659   \n",
      "93          94  spectrogram 1        1       84.226733     86.313096   \n",
      "98          99  spectrogram 1        1       88.825438     91.272182   \n",
      "107        108  spectrogram 1        1       96.028977     97.552840   \n",
      "111        112  spectrogram 1        1       99.990354    100.914517   \n",
      "116        117  spectrogram 1        1      104.327755    108.656087   \n",
      "122        123  spectrogram 1        1      109.525937    112.021391   \n",
      "129        130  spectrogram 1        1      113.765766    117.386474   \n",
      "137        138  spectrogram 1        1      121.053454    121.383161   \n",
      "141        142  spectrogram 1        1      124.864220    129.139630   \n",
      "154        155  spectrogram 1        1      132.583749    135.017840   \n",
      "162        163  spectrogram 1        1      139.602300    142.087527   \n",
      "168        169  spectrogram 1        1      143.969913    146.785822   \n",
      "176        177  spectrogram 1        1      149.282840    151.873748   \n",
      "210        211  spectrogram 1        1      170.636021    174.123521   \n",
      "225        226  spectrogram 1        1      178.252401    181.670619   \n",
      "238        239  spectrogram 1        1      184.176135    188.110226   \n",
      "250        251  spectrogram 1        1      190.244089    192.858862   \n",
      "267        268  spectrogram 1        1      203.737856    204.958310   \n",
      "277        278  spectrogram 1        1      211.662233    216.270763   \n",
      "\n",
      "     low freq (hz)  high freq (hz) species  \n",
      "85          1539.7          3668.7    amro  \n",
      "93          1349.6          3630.6    amro  \n",
      "98          1539.7          4029.8    amro  \n",
      "107         1159.5          3573.6    amro  \n",
      "111         1539.7          3440.4    amro  \n",
      "116         1368.6          3041.4    amro  \n",
      "122         1577.7          3041.4    amro  \n",
      "129         1602.9          3831.4    amro  \n",
      "137         1993.9          2813.1    amro  \n",
      "141         1558.7          4200.9    amro  \n",
      "154         2186.0          3782.7    amro  \n",
      "162         1634.7          4200.9    amro  \n",
      "168         1748.8          3687.7    amro  \n",
      "176         1634.7          3744.7    amro  \n",
      "210         1444.7          4162.9    amro  \n",
      "225         1798.4          3831.4    amro  \n",
      "238         1653.7          3592.6    amro  \n",
      "250         1615.7          3687.7    amro  \n",
      "267         1563.1          4230.8    amro  \n",
      "277         1646.5          4189.1    amro  \n",
      "\n",
      "=================================================================================================\n",
      "powdermill_data/Annotation_Files_Standardized/Recording_4_Segment_01.Table.1.selections.txt.lower\n",
      "=================================================================================================\n",
      "\n",
      "     selection           view  channel  begin time (s)  end time (s)  \\\n",
      "188        189  spectrogram 1        1      247.263069    249.107387   \n",
      "201        202  spectrogram 1        1      263.512160    264.851933   \n",
      "\n",
      "     low freq (hz)  high freq (hz) species  \n",
      "188         1249.2          2419.2    amro  \n",
      "201         1229.4          2558.0    amro  \n",
      "\n"
     ]
    }
   ],
   "source": [
    "output = raven.query_annotations(directory=raven_directory, cls='amro', col='species', print_out=True)"
   ]
  },
  {
   "cell_type": "markdown",
   "metadata": {},
   "source": [
    "## Split Raven annotations and audio files\n",
    "\n",
    "The Raven module's `raven_audio_split_and_save` function enables splitting of both audio data and associated annotations. It requires that the annotation and audio filenames are unique, and that corresponding annotation and audiofilenames are named the same filenames as each other."
   ]
  },
  {
   "cell_type": "code",
   "execution_count": 12,
   "metadata": {},
   "outputs": [
    {
     "name": "stdout",
     "output_type": "stream",
     "text": [
      "Found 77 sets of matching audio files and selection tables out of 77 audio files and 77 selection tables\n"
     ]
    }
   ],
   "source": [
    "audio_directory = Path('./powdermill_data/Recordings/')\n",
    "destination = Path('./powdermill_data/Split_Recordings')\n",
    "out = raven.raven_audio_split_and_save(\n",
    "    \n",
    "    # Where to look for Raven files\n",
    "    raven_directory = raven_directory,\n",
    "    \n",
    "    # Where to look for audio files\n",
    "    audio_directory = audio_directory,\n",
    "    \n",
    "    # The destination to save clips and the labels CSV to \n",
    "    destination = destination,\n",
    "    \n",
    "    # The column name of the labels\n",
    "    col = 'species',\n",
    "    \n",
    "    # Desired audio sample rate\n",
    "    sample_rate = 22050,\n",
    "    \n",
    "    # Desired duration of clips\n",
    "    clip_duration = 5,\n",
    "    \n",
    "    # Verbose (uncomment the next line to see progress--this cell takes a while to run)\n",
    "    #verbose=True,\n",
    ")"
   ]
  },
  {
   "cell_type": "markdown",
   "metadata": {},
   "source": [
    "The results of the splitting are saved in the destination folder under the name `labels.csv`."
   ]
  },
  {
   "cell_type": "code",
   "execution_count": 13,
   "metadata": {},
   "outputs": [
    {
     "data": {
      "text/html": [
       "<div>\n",
       "<style scoped>\n",
       "    .dataframe tbody tr th:only-of-type {\n",
       "        vertical-align: middle;\n",
       "    }\n",
       "\n",
       "    .dataframe tbody tr th {\n",
       "        vertical-align: top;\n",
       "    }\n",
       "\n",
       "    .dataframe thead th {\n",
       "        text-align: right;\n",
       "    }\n",
       "</style>\n",
       "<table border=\"1\" class=\"dataframe\">\n",
       "  <thead>\n",
       "    <tr style=\"text-align: right;\">\n",
       "      <th></th>\n",
       "      <th>amcr</th>\n",
       "      <th>amgo</th>\n",
       "      <th>amre</th>\n",
       "      <th>amro</th>\n",
       "      <th>baor</th>\n",
       "      <th>baww</th>\n",
       "      <th>bbwa</th>\n",
       "      <th>bcch</th>\n",
       "      <th>bggn</th>\n",
       "      <th>bhco</th>\n",
       "      <th>...</th>\n",
       "      <th>rsha</th>\n",
       "      <th>rwbl</th>\n",
       "      <th>scta</th>\n",
       "      <th>swth</th>\n",
       "      <th>tuti</th>\n",
       "      <th>veer</th>\n",
       "      <th>wbnu</th>\n",
       "      <th>witu</th>\n",
       "      <th>woth</th>\n",
       "      <th>ybcu</th>\n",
       "    </tr>\n",
       "    <tr>\n",
       "      <th>filename</th>\n",
       "      <th></th>\n",
       "      <th></th>\n",
       "      <th></th>\n",
       "      <th></th>\n",
       "      <th></th>\n",
       "      <th></th>\n",
       "      <th></th>\n",
       "      <th></th>\n",
       "      <th></th>\n",
       "      <th></th>\n",
       "      <th></th>\n",
       "      <th></th>\n",
       "      <th></th>\n",
       "      <th></th>\n",
       "      <th></th>\n",
       "      <th></th>\n",
       "      <th></th>\n",
       "      <th></th>\n",
       "      <th></th>\n",
       "      <th></th>\n",
       "      <th></th>\n",
       "    </tr>\n",
       "  </thead>\n",
       "  <tbody>\n",
       "    <tr>\n",
       "      <th>powdermill_data/Split_Recordings/Recording_4_Segment_13_0.0s_5.0s.wav</th>\n",
       "      <td>0.0</td>\n",
       "      <td>0.0</td>\n",
       "      <td>0.0</td>\n",
       "      <td>0.0</td>\n",
       "      <td>0.0</td>\n",
       "      <td>0.0</td>\n",
       "      <td>0.0</td>\n",
       "      <td>0.0</td>\n",
       "      <td>0.0</td>\n",
       "      <td>0.0</td>\n",
       "      <td>...</td>\n",
       "      <td>0.0</td>\n",
       "      <td>0.0</td>\n",
       "      <td>0.0</td>\n",
       "      <td>0.0</td>\n",
       "      <td>0.0</td>\n",
       "      <td>0.0</td>\n",
       "      <td>0.0</td>\n",
       "      <td>0.0</td>\n",
       "      <td>0.0</td>\n",
       "      <td>0.0</td>\n",
       "    </tr>\n",
       "    <tr>\n",
       "      <th>powdermill_data/Split_Recordings/Recording_4_Segment_13_5.0s_10.0s.wav</th>\n",
       "      <td>0.0</td>\n",
       "      <td>0.0</td>\n",
       "      <td>0.0</td>\n",
       "      <td>0.0</td>\n",
       "      <td>0.0</td>\n",
       "      <td>0.0</td>\n",
       "      <td>0.0</td>\n",
       "      <td>0.0</td>\n",
       "      <td>0.0</td>\n",
       "      <td>0.0</td>\n",
       "      <td>...</td>\n",
       "      <td>0.0</td>\n",
       "      <td>0.0</td>\n",
       "      <td>0.0</td>\n",
       "      <td>0.0</td>\n",
       "      <td>0.0</td>\n",
       "      <td>0.0</td>\n",
       "      <td>0.0</td>\n",
       "      <td>0.0</td>\n",
       "      <td>0.0</td>\n",
       "      <td>0.0</td>\n",
       "    </tr>\n",
       "    <tr>\n",
       "      <th>powdermill_data/Split_Recordings/Recording_4_Segment_13_10.0s_15.0s.wav</th>\n",
       "      <td>0.0</td>\n",
       "      <td>0.0</td>\n",
       "      <td>0.0</td>\n",
       "      <td>0.0</td>\n",
       "      <td>0.0</td>\n",
       "      <td>0.0</td>\n",
       "      <td>0.0</td>\n",
       "      <td>0.0</td>\n",
       "      <td>1.0</td>\n",
       "      <td>0.0</td>\n",
       "      <td>...</td>\n",
       "      <td>0.0</td>\n",
       "      <td>0.0</td>\n",
       "      <td>0.0</td>\n",
       "      <td>0.0</td>\n",
       "      <td>0.0</td>\n",
       "      <td>0.0</td>\n",
       "      <td>0.0</td>\n",
       "      <td>0.0</td>\n",
       "      <td>0.0</td>\n",
       "      <td>0.0</td>\n",
       "    </tr>\n",
       "    <tr>\n",
       "      <th>powdermill_data/Split_Recordings/Recording_4_Segment_13_15.0s_20.0s.wav</th>\n",
       "      <td>0.0</td>\n",
       "      <td>0.0</td>\n",
       "      <td>0.0</td>\n",
       "      <td>0.0</td>\n",
       "      <td>0.0</td>\n",
       "      <td>0.0</td>\n",
       "      <td>0.0</td>\n",
       "      <td>1.0</td>\n",
       "      <td>0.0</td>\n",
       "      <td>0.0</td>\n",
       "      <td>...</td>\n",
       "      <td>0.0</td>\n",
       "      <td>0.0</td>\n",
       "      <td>0.0</td>\n",
       "      <td>0.0</td>\n",
       "      <td>0.0</td>\n",
       "      <td>0.0</td>\n",
       "      <td>0.0</td>\n",
       "      <td>0.0</td>\n",
       "      <td>0.0</td>\n",
       "      <td>0.0</td>\n",
       "    </tr>\n",
       "    <tr>\n",
       "      <th>powdermill_data/Split_Recordings/Recording_4_Segment_13_20.0s_25.0s.wav</th>\n",
       "      <td>0.0</td>\n",
       "      <td>0.0</td>\n",
       "      <td>0.0</td>\n",
       "      <td>0.0</td>\n",
       "      <td>0.0</td>\n",
       "      <td>0.0</td>\n",
       "      <td>0.0</td>\n",
       "      <td>0.0</td>\n",
       "      <td>0.0</td>\n",
       "      <td>0.0</td>\n",
       "      <td>...</td>\n",
       "      <td>0.0</td>\n",
       "      <td>0.0</td>\n",
       "      <td>0.0</td>\n",
       "      <td>0.0</td>\n",
       "      <td>0.0</td>\n",
       "      <td>0.0</td>\n",
       "      <td>0.0</td>\n",
       "      <td>0.0</td>\n",
       "      <td>0.0</td>\n",
       "      <td>0.0</td>\n",
       "    </tr>\n",
       "  </tbody>\n",
       "</table>\n",
       "<p>5 rows × 48 columns</p>\n",
       "</div>"
      ],
      "text/plain": [
       "                                                    amcr  amgo  amre  amro  \\\n",
       "filename                                                                     \n",
       "powdermill_data/Split_Recordings/Recording_4_Se...   0.0   0.0   0.0   0.0   \n",
       "powdermill_data/Split_Recordings/Recording_4_Se...   0.0   0.0   0.0   0.0   \n",
       "powdermill_data/Split_Recordings/Recording_4_Se...   0.0   0.0   0.0   0.0   \n",
       "powdermill_data/Split_Recordings/Recording_4_Se...   0.0   0.0   0.0   0.0   \n",
       "powdermill_data/Split_Recordings/Recording_4_Se...   0.0   0.0   0.0   0.0   \n",
       "\n",
       "                                                    baor  baww  bbwa  bcch  \\\n",
       "filename                                                                     \n",
       "powdermill_data/Split_Recordings/Recording_4_Se...   0.0   0.0   0.0   0.0   \n",
       "powdermill_data/Split_Recordings/Recording_4_Se...   0.0   0.0   0.0   0.0   \n",
       "powdermill_data/Split_Recordings/Recording_4_Se...   0.0   0.0   0.0   0.0   \n",
       "powdermill_data/Split_Recordings/Recording_4_Se...   0.0   0.0   0.0   1.0   \n",
       "powdermill_data/Split_Recordings/Recording_4_Se...   0.0   0.0   0.0   0.0   \n",
       "\n",
       "                                                    bggn  bhco  ...  rsha  \\\n",
       "filename                                                        ...         \n",
       "powdermill_data/Split_Recordings/Recording_4_Se...   0.0   0.0  ...   0.0   \n",
       "powdermill_data/Split_Recordings/Recording_4_Se...   0.0   0.0  ...   0.0   \n",
       "powdermill_data/Split_Recordings/Recording_4_Se...   1.0   0.0  ...   0.0   \n",
       "powdermill_data/Split_Recordings/Recording_4_Se...   0.0   0.0  ...   0.0   \n",
       "powdermill_data/Split_Recordings/Recording_4_Se...   0.0   0.0  ...   0.0   \n",
       "\n",
       "                                                    rwbl  scta  swth  tuti  \\\n",
       "filename                                                                     \n",
       "powdermill_data/Split_Recordings/Recording_4_Se...   0.0   0.0   0.0   0.0   \n",
       "powdermill_data/Split_Recordings/Recording_4_Se...   0.0   0.0   0.0   0.0   \n",
       "powdermill_data/Split_Recordings/Recording_4_Se...   0.0   0.0   0.0   0.0   \n",
       "powdermill_data/Split_Recordings/Recording_4_Se...   0.0   0.0   0.0   0.0   \n",
       "powdermill_data/Split_Recordings/Recording_4_Se...   0.0   0.0   0.0   0.0   \n",
       "\n",
       "                                                    veer  wbnu  witu  woth  \\\n",
       "filename                                                                     \n",
       "powdermill_data/Split_Recordings/Recording_4_Se...   0.0   0.0   0.0   0.0   \n",
       "powdermill_data/Split_Recordings/Recording_4_Se...   0.0   0.0   0.0   0.0   \n",
       "powdermill_data/Split_Recordings/Recording_4_Se...   0.0   0.0   0.0   0.0   \n",
       "powdermill_data/Split_Recordings/Recording_4_Se...   0.0   0.0   0.0   0.0   \n",
       "powdermill_data/Split_Recordings/Recording_4_Se...   0.0   0.0   0.0   0.0   \n",
       "\n",
       "                                                    ybcu  \n",
       "filename                                                  \n",
       "powdermill_data/Split_Recordings/Recording_4_Se...   0.0  \n",
       "powdermill_data/Split_Recordings/Recording_4_Se...   0.0  \n",
       "powdermill_data/Split_Recordings/Recording_4_Se...   0.0  \n",
       "powdermill_data/Split_Recordings/Recording_4_Se...   0.0  \n",
       "powdermill_data/Split_Recordings/Recording_4_Se...   0.0  \n",
       "\n",
       "[5 rows x 48 columns]"
      ]
     },
     "execution_count": 13,
     "metadata": {},
     "output_type": "execute_result"
    }
   ],
   "source": [
    "labels = pd.read_csv(destination.joinpath(\"labels.csv\"), index_col='filename')\n",
    "labels.head()"
   ]
  },
  {
   "cell_type": "markdown",
   "metadata": {},
   "source": [
    "The `raven_audio_split_and_save` function contains several options. Notable options are:\n",
    "\n",
    "* `clip_duration`: the length of the clips\n",
    "* `clip_overlap`: the overlap, in seconds, between clips\n",
    "* `final_clip`: what to do with the final clip if it is not exactly `clip_duration` in length (see API docs for more details)\n",
    "* `labeled_clips_only`: whether to only save labeled clips\n",
    "* `min_label_length`: minimum length, in seconds, of an annotation for a clip to be considered labeled. For instance, if an annotation only overlaps 0.1s with a 5s clip, you might want to exclude it with `min_label_length=0.2`.\n",
    "* `species`: a subset of species to search for labels of (by default, finds all species labels in dataset)\n",
    "* `dry_run`: if `True`, produces print statements and returns dataframe of labels, but does not save files.\n",
    "* `verbose`: if `True`, prints more information, e.g. clip-by-clip progress."
   ]
  },
  {
   "cell_type": "markdown",
   "metadata": {},
   "source": [
    "For instance, let's extract labels for one species, American Redstart (AMRE) only saving clips that contain at least 0.5s of label for that species. The \"verbose\" flag causes the function to print progress splitting each clip."
   ]
  },
  {
   "cell_type": "code",
   "execution_count": 14,
   "metadata": {},
   "outputs": [
    {
     "name": "stdout",
     "output_type": "stream",
     "text": [
      "Found 77 sets of matching audio files and selection tables out of 77 audio files and 77 selection tables\n",
      "Making directory powdermill_data/btnw_recordings\n",
      "1. Finished powdermill_data/Recordings/Recording_4/Recording_4_Segment_13.mp3\n",
      "2. Finished powdermill_data/Recordings/Recording_1/Recording_1_Segment_33.mp3\n",
      "3. Finished powdermill_data/Recordings/Recording_1/Recording_1_Segment_26.mp3\n",
      "4. Finished powdermill_data/Recordings/Recording_4/Recording_4_Segment_19.mp3\n",
      "5. Finished powdermill_data/Recordings/Recording_1/Recording_1_Segment_11.mp3\n",
      "6. Finished powdermill_data/Recordings/Recording_2/Recording_2_Segment_13.mp3\n",
      "7. Finished powdermill_data/Recordings/Recording_1/Recording_1_Segment_29.mp3\n",
      "8. Finished powdermill_data/Recordings/Recording_2/Recording_2_Segment_01.mp3\n",
      "9. Finished powdermill_data/Recordings/Recording_1/Recording_1_Segment_15.mp3\n",
      "10. Finished powdermill_data/Recordings/Recording_4/Recording_4_Segment_20.mp3\n",
      "11. Finished powdermill_data/Recordings/Recording_1/Recording_1_Segment_12.mp3\n",
      "12. Finished powdermill_data/Recordings/Recording_1/Recording_1_Segment_36.mp3\n",
      "13. Finished powdermill_data/Recordings/Recording_1/Recording_1_Segment_25.mp3\n",
      "14. Finished powdermill_data/Recordings/Recording_4/Recording_4_Segment_26.mp3\n",
      "15. Finished powdermill_data/Recordings/Recording_2/Recording_2_Segment_14.mp3\n",
      "16. Finished powdermill_data/Recordings/Recording_2/Recording_2_Segment_10.mp3\n",
      "17. Finished powdermill_data/Recordings/Recording_2/Recording_2_Segment_11.mp3\n",
      "18. Finished powdermill_data/Recordings/Recording_3/Recording_3_Segment_01.mp3\n",
      "19. Finished powdermill_data/Recordings/Recording_1/Recording_1_Segment_32.mp3\n",
      "20. Finished powdermill_data/Recordings/Recording_2/Recording_2_Segment_03.mp3\n",
      "21. Finished powdermill_data/Recordings/Recording_1/Recording_1_Segment_07.mp3\n",
      "22. Finished powdermill_data/Recordings/Recording_4/Recording_4_Segment_04.mp3\n",
      "23. Finished powdermill_data/Recordings/Recording_1/Recording_1_Segment_16.mp3\n",
      "24. Finished powdermill_data/Recordings/Recording_1/Recording_1_Segment_30.mp3\n",
      "25. Finished powdermill_data/Recordings/Recording_2/Recording_2_Segment_02.mp3\n",
      "26. Finished powdermill_data/Recordings/Recording_1/Recording_1_Segment_19.mp3\n",
      "27. Finished powdermill_data/Recordings/Recording_4/Recording_4_Segment_12.mp3\n",
      "28. Finished powdermill_data/Recordings/Recording_2/Recording_2_Segment_08.mp3\n",
      "29. Finished powdermill_data/Recordings/Recording_4/Recording_4_Segment_10.mp3\n",
      "30. Finished powdermill_data/Recordings/Recording_1/Recording_1_Segment_20.mp3\n",
      "31. Finished powdermill_data/Recordings/Recording_2/Recording_2_Segment_12.mp3\n",
      "32. Finished powdermill_data/Recordings/Recording_1/Recording_1_Segment_14.mp3\n",
      "33. Finished powdermill_data/Recordings/Recording_4/Recording_4_Segment_16.mp3\n",
      "34. Finished powdermill_data/Recordings/Recording_4/Recording_4_Segment_25.mp3\n",
      "35. Finished powdermill_data/Recordings/Recording_1/Recording_1_Segment_09.mp3\n",
      "36. Finished powdermill_data/Recordings/Recording_1/Recording_1_Segment_17.mp3\n",
      "37. Finished powdermill_data/Recordings/Recording_2/Recording_2_Segment_07.mp3\n",
      "38. Finished powdermill_data/Recordings/Recording_1/Recording_1_Segment_02.mp3\n",
      "39. Finished powdermill_data/Recordings/Recording_4/Recording_4_Segment_02.mp3\n",
      "40. Finished powdermill_data/Recordings/Recording_1/Recording_1_Segment_08.mp3\n",
      "41. Finished powdermill_data/Recordings/Recording_4/Recording_4_Segment_09.mp3\n",
      "42. Finished powdermill_data/Recordings/Recording_4/Recording_4_Segment_05.mp3\n",
      "43. Finished powdermill_data/Recordings/Recording_4/Recording_4_Segment_08.mp3\n",
      "44. Finished powdermill_data/Recordings/Recording_1/Recording_1_Segment_05.mp3\n",
      "45. Finished powdermill_data/Recordings/Recording_4/Recording_4_Segment_18.mp3\n",
      "46. Finished powdermill_data/Recordings/Recording_4/Recording_4_Segment_14.mp3\n",
      "47. Finished powdermill_data/Recordings/Recording_2/Recording_2_Segment_09.mp3\n",
      "48. Finished powdermill_data/Recordings/Recording_1/Recording_1_Segment_23.mp3\n",
      "49. Finished powdermill_data/Recordings/Recording_2/Recording_2_Segment_06.mp3\n",
      "50. Finished powdermill_data/Recordings/Recording_1/Recording_1_Segment_34.mp3\n",
      "51. Finished powdermill_data/Recordings/Recording_1/Recording_1_Segment_10.mp3\n",
      "52. Finished powdermill_data/Recordings/Recording_1/Recording_1_Segment_27.mp3\n",
      "53. Finished powdermill_data/Recordings/Recording_4/Recording_4_Segment_06.mp3\n",
      "54. Finished powdermill_data/Recordings/Recording_1/Recording_1_Segment_31.mp3\n",
      "55. Finished powdermill_data/Recordings/Recording_2/Recording_2_Segment_04.mp3\n",
      "56. Finished powdermill_data/Recordings/Recording_1/Recording_1_Segment_24.mp3\n",
      "57. Finished powdermill_data/Recordings/Recording_2/Recording_2_Segment_05.mp3\n",
      "58. Finished powdermill_data/Recordings/Recording_4/Recording_4_Segment_22.mp3\n",
      "59. Finished powdermill_data/Recordings/Recording_1/Recording_1_Segment_18.mp3\n",
      "60. Finished powdermill_data/Recordings/Recording_4/Recording_4_Segment_01.mp3\n",
      "61. Finished powdermill_data/Recordings/Recording_4/Recording_4_Segment_21.mp3\n",
      "62. Finished powdermill_data/Recordings/Recording_4/Recording_4_Segment_24.mp3\n",
      "63. Finished powdermill_data/Recordings/Recording_4/Recording_4_Segment_03.mp3\n",
      "64. Finished powdermill_data/Recordings/Recording_1/Recording_1_Segment_01.mp3\n",
      "65. Finished powdermill_data/Recordings/Recording_1/Recording_1_Segment_04.mp3\n",
      "66. Finished powdermill_data/Recordings/Recording_4/Recording_4_Segment_15.mp3\n",
      "67. Finished powdermill_data/Recordings/Recording_1/Recording_1_Segment_13.mp3\n",
      "68. Finished powdermill_data/Recordings/Recording_4/Recording_4_Segment_07.mp3\n",
      "69. Finished powdermill_data/Recordings/Recording_4/Recording_4_Segment_11.mp3\n",
      "70. Finished powdermill_data/Recordings/Recording_1/Recording_1_Segment_21.mp3\n",
      "71. Finished powdermill_data/Recordings/Recording_1/Recording_1_Segment_28.mp3\n",
      "72. Finished powdermill_data/Recordings/Recording_4/Recording_4_Segment_17.mp3\n",
      "73. Finished powdermill_data/Recordings/Recording_1/Recording_1_Segment_03.mp3\n",
      "74. Finished powdermill_data/Recordings/Recording_1/Recording_1_Segment_35.mp3\n",
      "75. Finished powdermill_data/Recordings/Recording_1/Recording_1_Segment_06.mp3\n",
      "76. Finished powdermill_data/Recordings/Recording_4/Recording_4_Segment_23.mp3\n",
      "77. Finished powdermill_data/Recordings/Recording_1/Recording_1_Segment_22.mp3\n"
     ]
    }
   ],
   "source": [
    "btnw_split_dir = Path('./powdermill_data/btnw_recordings')\n",
    "out = raven.raven_audio_split_and_save(\n",
    "    raven_directory = raven_directory,\n",
    "    audio_directory = audio_directory,\n",
    "    destination = btnw_split_dir,\n",
    "    col = 'species',\n",
    "    sample_rate = 22050,\n",
    "    clip_duration = 5,\n",
    "    clip_overlap = 0,\n",
    "    verbose=True,\n",
    "    species='amre',\n",
    "    labeled_clips_only=True,\n",
    "    min_label_len=1\n",
    ")"
   ]
  },
  {
   "cell_type": "markdown",
   "metadata": {},
   "source": [
    "The labels CSV only has a column for the species of interest:"
   ]
  },
  {
   "cell_type": "code",
   "execution_count": 15,
   "metadata": {},
   "outputs": [
    {
     "data": {
      "text/html": [
       "<div>\n",
       "<style scoped>\n",
       "    .dataframe tbody tr th:only-of-type {\n",
       "        vertical-align: middle;\n",
       "    }\n",
       "\n",
       "    .dataframe tbody tr th {\n",
       "        vertical-align: top;\n",
       "    }\n",
       "\n",
       "    .dataframe thead th {\n",
       "        text-align: right;\n",
       "    }\n",
       "</style>\n",
       "<table border=\"1\" class=\"dataframe\">\n",
       "  <thead>\n",
       "    <tr style=\"text-align: right;\">\n",
       "      <th></th>\n",
       "      <th>amre</th>\n",
       "    </tr>\n",
       "    <tr>\n",
       "      <th>filename</th>\n",
       "      <th></th>\n",
       "    </tr>\n",
       "  </thead>\n",
       "  <tbody>\n",
       "    <tr>\n",
       "      <th>powdermill_data/btnw_recordings/Recording_2_Segment_13_60.0s_65.0s.wav</th>\n",
       "      <td>1.0</td>\n",
       "    </tr>\n",
       "    <tr>\n",
       "      <th>powdermill_data/btnw_recordings/Recording_2_Segment_13_65.0s_70.0s.wav</th>\n",
       "      <td>1.0</td>\n",
       "    </tr>\n",
       "    <tr>\n",
       "      <th>powdermill_data/btnw_recordings/Recording_2_Segment_13_85.0s_90.0s.wav</th>\n",
       "      <td>1.0</td>\n",
       "    </tr>\n",
       "    <tr>\n",
       "      <th>powdermill_data/btnw_recordings/Recording_2_Segment_13_95.0s_100.0s.wav</th>\n",
       "      <td>1.0</td>\n",
       "    </tr>\n",
       "    <tr>\n",
       "      <th>powdermill_data/btnw_recordings/Recording_2_Segment_13_105.0s_110.0s.wav</th>\n",
       "      <td>1.0</td>\n",
       "    </tr>\n",
       "  </tbody>\n",
       "</table>\n",
       "</div>"
      ],
      "text/plain": [
       "                                                    amre\n",
       "filename                                                \n",
       "powdermill_data/btnw_recordings/Recording_2_Seg...   1.0\n",
       "powdermill_data/btnw_recordings/Recording_2_Seg...   1.0\n",
       "powdermill_data/btnw_recordings/Recording_2_Seg...   1.0\n",
       "powdermill_data/btnw_recordings/Recording_2_Seg...   1.0\n",
       "powdermill_data/btnw_recordings/Recording_2_Seg...   1.0"
      ]
     },
     "execution_count": 15,
     "metadata": {},
     "output_type": "execute_result"
    }
   ],
   "source": [
    "btnw_labels = pd.read_csv(btnw_split_dir.joinpath(\"labels.csv\"), index_col='filename')\n",
    "btnw_labels.head()"
   ]
  },
  {
   "cell_type": "markdown",
   "metadata": {},
   "source": [
    "The split files and associated labels csv can now be used to train machine learning models (see additional tutorials).\n",
    "\n",
    "The command below cleans up after the tutorial is done -- only run it if you want to delete all of the files."
   ]
  },
  {
   "cell_type": "code",
   "execution_count": 16,
   "metadata": {},
   "outputs": [],
   "source": [
    "from shutil import rmtree\n",
    "for file in files_to_delete:\n",
    "    if file.is_dir():\n",
    "        rmtree(file)\n",
    "    else:\n",
    "        file.unlink()"
   ]
  }
 ],
 "metadata": {
  "kernelspec": {
   "display_name": "Python 3",
   "language": "python",
   "name": "python3"
  },
  "language_info": {
   "codemirror_mode": {
    "name": "ipython",
    "version": 3
   },
   "file_extension": ".py",
   "mimetype": "text/x-python",
   "name": "python",
   "nbconvert_exporter": "python",
   "pygments_lexer": "ipython3",
   "version": "3.8.5"
  }
 },
 "nbformat": 4,
 "nbformat_minor": 4
}
